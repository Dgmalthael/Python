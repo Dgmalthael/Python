{
 "cells": [
  {
   "cell_type": "code",
   "execution_count": 33,
   "id": "5c421132",
   "metadata": {},
   "outputs": [
    {
     "name": "stdout",
     "output_type": "stream",
     "text": [
      "the amount of  the money 560\n",
      "the month 12\n",
      "total amount: 11975.2\n",
      "the interst: 5255\n"
     ]
    }
   ],
   "source": [
    "total = []\n",
    "a = float(input('the amount of  the money '))\n",
    "b = a \n",
    "m = int(input('the month '))\n",
    "main = a * m \n",
    "def iterst_cal(b,m):\n",
    "    for i in range(m):\n",
    "        if b == b:\n",
    "            b = b + (b * 0.1)\n",
    "            #print(b)\n",
    "        if b != b:\n",
    "            b = b  + (b * 0.04)\n",
    "            #print(b)\n",
    "    total.append(b)\n",
    "    #print (total)\n",
    "for i in range(m):\n",
    "    m = m-1\n",
    "    iterst_cal(b,m)\n",
    "interst = sum(total) - main\n",
    "print('total amount: ' + str(round(sum(total),2)))\n",
    "print('the interst: ' +  str(round(interst)))\n"
   ]
  },
  {
   "cell_type": "code",
   "execution_count": null,
   "id": "269824ec",
   "metadata": {},
   "outputs": [],
   "source": []
  }
 ],
 "metadata": {
  "kernelspec": {
   "display_name": "Python 3",
   "language": "python",
   "name": "python3"
  },
  "language_info": {
   "codemirror_mode": {
    "name": "ipython",
    "version": 3
   },
   "file_extension": ".py",
   "mimetype": "text/x-python",
   "name": "python",
   "nbconvert_exporter": "python",
   "pygments_lexer": "ipython3",
   "version": "3.8.8"
  }
 },
 "nbformat": 4,
 "nbformat_minor": 5
}
