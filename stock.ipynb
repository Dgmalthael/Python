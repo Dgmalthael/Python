{
 "cells": [
  {
   "cell_type": "code",
   "execution_count": 1,
   "id": "1289202a",
   "metadata": {},
   "outputs": [
    {
     "name": "stdout",
     "output_type": "stream",
     "text": [
      "1\n",
      "3\n",
      "5\n",
      "4\n"
     ]
    }
   ],
   "source": [
    "\n",
    "LS = []\n",
    "TS = []\n",
    "def get_non_negative(prompt):\n",
    "    while True:\n",
    "        try:\n",
    "            value = float(input(prompt))\n",
    "            print(value)\n",
    "            LS.append(value)\n",
    "        except ValueError:\n",
    "            print(\"Sorry, I didn't understand that.\")\n",
    "            continue\n",
    "\n",
    "        if value < 0:\n",
    "            print(\"Value must be positive\")\n",
    "            continue\n",
    "        else:\n",
    "            \n",
    "            break\n",
    "    return value\n",
    "\n",
    "SPY = get_non_negative(\"Enter amount invested in SPY: \")\n",
    "QQQ = get_non_negative(\"Enter amount invested in QQQ: \")\n",
    "EEM = get_non_negative(\"Enter amount invested in EEM: \")\n",
    "VXX = get_non_negative(\"Enter amount invested in VXX: \")\n",
    "\n",
    "for i in range(len(LS)):\n",
    "    PS = (LS[i] / sum(LS)) * 100\n",
    "    TS.append(PS)\n",
    "print(TS)"
   ]
  },
  {
   "cell_type": "code",
   "execution_count": null,
   "id": "b9a24fdd",
   "metadata": {},
   "outputs": [],
   "source": []
  }
 ],
 "metadata": {
  "kernelspec": {
   "display_name": "Python 3",
   "language": "python",
   "name": "python3"
  },
  "language_info": {
   "codemirror_mode": {
    "name": "ipython",
    "version": 3
   },
   "file_extension": ".py",
   "mimetype": "text/x-python",
   "name": "python",
   "nbconvert_exporter": "python",
   "pygments_lexer": "ipython3",
   "version": "3.8.8"
  }
 },
 "nbformat": 4,
 "nbformat_minor": 5
}
